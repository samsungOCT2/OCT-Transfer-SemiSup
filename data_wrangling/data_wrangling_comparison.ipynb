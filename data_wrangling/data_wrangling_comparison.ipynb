{
 "cells": [
  {
   "cell_type": "markdown",
   "metadata": {
    "id": "u1v-GT8REPP3"
   },
   "source": [
    "# Import stuff"
   ]
  },
  {
   "cell_type": "code",
   "execution_count": 1,
   "metadata": {
    "executionInfo": {
     "elapsed": 1486,
     "status": "ok",
     "timestamp": 1646869430721,
     "user": {
      "displayName": "Felipe Caballero",
      "photoUrl": "https://lh3.googleusercontent.com/a-/AOh14Ghss5wXppIJZM0rNUspPkopIx4mFU3275c3bkut6w=s64",
      "userId": "15085300037385058935"
     },
     "user_tz": 300
    },
    "id": "_4zKMqW9D4Ol"
   },
   "outputs": [],
   "source": [
    "import os\n",
    "\n",
    "import numpy as np\n",
    "import pandas as pd\n",
    "import termcolor"
   ]
  },
  {
   "cell_type": "markdown",
   "metadata": {
    "id": "jDbwveoZEtUv"
   },
   "source": [
    "# Configure directories\n",
    "\n",
    "**Note**: This was done inside a Google Drive directory but it has been removed from below, use your own if you plan to do this in Google Drive. Replace the part `[REPLACE THIS WITH THE LOCATION IN YOUR OWN GOOGLE DRIVE]` with your own directory inside your Google Drive."
   ]
  },
  {
   "cell_type": "code",
   "execution_count": 2,
   "metadata": {
    "colab": {
     "base_uri": "https://localhost:8080/"
    },
    "executionInfo": {
     "elapsed": 2106,
     "status": "ok",
     "timestamp": 1646869812496,
     "user": {
      "displayName": "Felipe Caballero",
      "photoUrl": "https://lh3.googleusercontent.com/a-/AOh14Ghss5wXppIJZM0rNUspPkopIx4mFU3275c3bkut6w=s64",
      "userId": "15085300037385058935"
     },
     "user_tz": 300
    },
    "id": "qW0b-bjNEsqH",
    "outputId": "9f6c04b6-c9dd-432a-aaff-726502b7fcd9"
   },
   "outputs": [],
   "source": [
    "BASE_PATH = !pwd\n",
    "BASE_PATH = BASE_PATH[0]\n",
    "\n",
    "# Note\n",
    "#   If using DATA_CSV_MENDELEY with ! or % , quote it so the spaces are respected\n",
    "#   e.g. `!head \"{DATA_CSV_MENDELEY}\"`\n",
    "\n",
    "try:  # Mount Google Drive\n",
    "    import os\n",
    "    from google.colab import drive\n",
    "\n",
    "    drive.mount(\"/content/gdrive\")\n",
    "    NOTEBOOK_DIR = \"/content/gdrive/My Drive/[REPLACE THIS WITH THE LOCATION IN YOUR OWN GOOGLE DRIVE]\"\n",
    "    DATA_WRANGLING_DIR = NOTEBOOK_DIR\n",
    "    # !ln -s \"{NOTEBOOK_DIR}\" NOTEBOOK_DIR\n",
    "    !if [ -e NOTEBOOK_DIR ]; then echo 'NOTEBOOK_DIR link already exists'; else ln -s \"{NOTEBOOK_DIR}\" NOTEBOOK_DIR; fi\n",
    "except:  # Locally run Jupyter\n",
    "    NOTEBOOK_DIR = f\"{BASE_PATH}\"\n",
    "    DATA_WRANGLING_DIR = NOTEBOOK_DIR"
   ]
  },
  {
   "cell_type": "code",
   "execution_count": 3,
   "metadata": {
    "colab": {
     "base_uri": "https://localhost:8080/"
    },
    "executionInfo": {
     "elapsed": 2325,
     "status": "ok",
     "timestamp": 1646869855163,
     "user": {
      "displayName": "Felipe Caballero",
      "photoUrl": "https://lh3.googleusercontent.com/a-/AOh14Ghss5wXppIJZM0rNUspPkopIx4mFU3275c3bkut6w=s64",
      "userId": "15085300037385058935"
     },
     "user_tz": 300
    },
    "id": "SHOAtPrHFw7E",
    "outputId": "fe82f5bc-ab08-4de5-c26a-f249da97c8ca"
   },
   "outputs": [
    {
     "name": "stdout",
     "output_type": "stream",
     "text": [
      "/Users/felipe/Documents/academic/fourthbrain/capstone_stuff/OCT-Transfer-SemiSup/data_wrangling\n",
      "data_wrangling_comparison.ipynb \u001b[1m\u001b[36mmendeley\u001b[m\u001b[m\n",
      "\u001b[1m\u001b[36mkaggle\u001b[m\u001b[m\n"
     ]
    }
   ],
   "source": [
    "!pwd\n",
    "!ls \"{DATA_WRANGLING_DIR}\""
   ]
  },
  {
   "cell_type": "markdown",
   "metadata": {
    "id": "ds-OA0ENESMn"
   },
   "source": [
    "# Read CSVs into DataFrames"
   ]
  },
  {
   "cell_type": "markdown",
   "metadata": {
    "id": "lCYn38ZoEc_z"
   },
   "source": [
    "## Read Mendeley CSV\n",
    "\n",
    "At this point the Mendeley DataFrame was already processed for duplicates so no further processing is required."
   ]
  },
  {
   "cell_type": "code",
   "execution_count": 4,
   "metadata": {
    "colab": {
     "base_uri": "https://localhost:8080/",
     "height": 815
    },
    "executionInfo": {
     "elapsed": 282,
     "status": "ok",
     "timestamp": 1646871372593,
     "user": {
      "displayName": "Felipe Caballero",
      "photoUrl": "https://lh3.googleusercontent.com/a-/AOh14Ghss5wXppIJZM0rNUspPkopIx4mFU3275c3bkut6w=s64",
      "userId": "15085300037385058935"
     },
     "user_tz": 300
    },
    "id": "JF-qIJPgEejL",
    "outputId": "fa5d5a17-a9a3-4db0-9969-291159908f9d"
   },
   "outputs": [
    {
     "data": {
      "text/html": [
       "<div>\n",
       "<style scoped>\n",
       "    .dataframe tbody tr th:only-of-type {\n",
       "        vertical-align: middle;\n",
       "    }\n",
       "\n",
       "    .dataframe tbody tr th {\n",
       "        vertical-align: top;\n",
       "    }\n",
       "\n",
       "    .dataframe thead th {\n",
       "        text-align: right;\n",
       "    }\n",
       "</style>\n",
       "<table border=\"1\" class=\"dataframe\">\n",
       "  <thead>\n",
       "    <tr style=\"text-align: right;\">\n",
       "      <th></th>\n",
       "      <th>file_name</th>\n",
       "      <th>dataset</th>\n",
       "      <th>condition</th>\n",
       "      <th>file_location</th>\n",
       "      <th>patient_id</th>\n",
       "      <th>md5</th>\n",
       "      <th>dimensions</th>\n",
       "    </tr>\n",
       "  </thead>\n",
       "  <tbody>\n",
       "    <tr>\n",
       "      <th>0</th>\n",
       "      <td>CNV-1016042-1.jpeg</td>\n",
       "      <td>test</td>\n",
       "      <td>CNV</td>\n",
       "      <td>OCT2017/test/CNV/CNV-1016042-1.jpeg</td>\n",
       "      <td>1016042</td>\n",
       "      <td>8878b3c48d6252464d388feeddf07259</td>\n",
       "      <td>(512, 496)</td>\n",
       "    </tr>\n",
       "    <tr>\n",
       "      <th>1</th>\n",
       "      <td>CNV-1016042-2.jpeg</td>\n",
       "      <td>test</td>\n",
       "      <td>CNV</td>\n",
       "      <td>OCT2017/test/CNV/CNV-1016042-2.jpeg</td>\n",
       "      <td>1016042</td>\n",
       "      <td>2fe168b795c02e7a675f835f0930abd2</td>\n",
       "      <td>(512, 496)</td>\n",
       "    </tr>\n",
       "    <tr>\n",
       "      <th>2</th>\n",
       "      <td>CNV-1016042-3.jpeg</td>\n",
       "      <td>test</td>\n",
       "      <td>CNV</td>\n",
       "      <td>OCT2017/test/CNV/CNV-1016042-3.jpeg</td>\n",
       "      <td>1016042</td>\n",
       "      <td>6bcd80b40786b6760724d082098f513f</td>\n",
       "      <td>(768, 496)</td>\n",
       "    </tr>\n",
       "    <tr>\n",
       "      <th>3</th>\n",
       "      <td>CNV-1016042-4.jpeg</td>\n",
       "      <td>test</td>\n",
       "      <td>CNV</td>\n",
       "      <td>OCT2017/test/CNV/CNV-1016042-4.jpeg</td>\n",
       "      <td>1016042</td>\n",
       "      <td>4693ad1edc383053e72563f8212a94ce</td>\n",
       "      <td>(512, 496)</td>\n",
       "    </tr>\n",
       "    <tr>\n",
       "      <th>4</th>\n",
       "      <td>CNV-103044-1.jpeg</td>\n",
       "      <td>test</td>\n",
       "      <td>CNV</td>\n",
       "      <td>OCT2017/test/CNV/CNV-103044-1.jpeg</td>\n",
       "      <td>103044</td>\n",
       "      <td>bcd67009e1a0f7d540840a057f6334b2</td>\n",
       "      <td>(512, 496)</td>\n",
       "    </tr>\n",
       "    <tr>\n",
       "      <th>...</th>\n",
       "      <td>...</td>\n",
       "      <td>...</td>\n",
       "      <td>...</td>\n",
       "      <td>...</td>\n",
       "      <td>...</td>\n",
       "      <td>...</td>\n",
       "      <td>...</td>\n",
       "    </tr>\n",
       "    <tr>\n",
       "      <th>77122</th>\n",
       "      <td>NORMAL-9997680-2.jpeg</td>\n",
       "      <td>train</td>\n",
       "      <td>NORMAL</td>\n",
       "      <td>OCT2017/train/NORMAL/NORMAL-9997680-2.jpeg</td>\n",
       "      <td>9997680</td>\n",
       "      <td>31f918fd7fe2f0d02d6a6b9f6f44bcf5</td>\n",
       "      <td>(512, 512)</td>\n",
       "    </tr>\n",
       "    <tr>\n",
       "      <th>77123</th>\n",
       "      <td>NORMAL-9997680-3.jpeg</td>\n",
       "      <td>train</td>\n",
       "      <td>NORMAL</td>\n",
       "      <td>OCT2017/train/NORMAL/NORMAL-9997680-3.jpeg</td>\n",
       "      <td>9997680</td>\n",
       "      <td>ac491500b3d2616aaa6976d87505269a</td>\n",
       "      <td>(512, 512)</td>\n",
       "    </tr>\n",
       "    <tr>\n",
       "      <th>77124</th>\n",
       "      <td>NORMAL-9997680-4.jpeg</td>\n",
       "      <td>train</td>\n",
       "      <td>NORMAL</td>\n",
       "      <td>OCT2017/train/NORMAL/NORMAL-9997680-4.jpeg</td>\n",
       "      <td>9997680</td>\n",
       "      <td>9d961b691ce6f2484642f5d8118748c7</td>\n",
       "      <td>(512, 512)</td>\n",
       "    </tr>\n",
       "    <tr>\n",
       "      <th>77125</th>\n",
       "      <td>NORMAL-9997680-5.jpeg</td>\n",
       "      <td>train</td>\n",
       "      <td>NORMAL</td>\n",
       "      <td>OCT2017/train/NORMAL/NORMAL-9997680-5.jpeg</td>\n",
       "      <td>9997680</td>\n",
       "      <td>dd3be99ae7e602565aa91aa89ea06daa</td>\n",
       "      <td>(512, 512)</td>\n",
       "    </tr>\n",
       "    <tr>\n",
       "      <th>77126</th>\n",
       "      <td>NORMAL-9997680-6.jpeg</td>\n",
       "      <td>train</td>\n",
       "      <td>NORMAL</td>\n",
       "      <td>OCT2017/train/NORMAL/NORMAL-9997680-6.jpeg</td>\n",
       "      <td>9997680</td>\n",
       "      <td>4978c0b1ad3fc3a364e41786a4b94950</td>\n",
       "      <td>(512, 512)</td>\n",
       "    </tr>\n",
       "  </tbody>\n",
       "</table>\n",
       "<p>77127 rows × 7 columns</p>\n",
       "</div>"
      ],
      "text/plain": [
       "                   file_name dataset condition  \\\n",
       "0         CNV-1016042-1.jpeg    test       CNV   \n",
       "1         CNV-1016042-2.jpeg    test       CNV   \n",
       "2         CNV-1016042-3.jpeg    test       CNV   \n",
       "3         CNV-1016042-4.jpeg    test       CNV   \n",
       "4          CNV-103044-1.jpeg    test       CNV   \n",
       "...                      ...     ...       ...   \n",
       "77122  NORMAL-9997680-2.jpeg   train    NORMAL   \n",
       "77123  NORMAL-9997680-3.jpeg   train    NORMAL   \n",
       "77124  NORMAL-9997680-4.jpeg   train    NORMAL   \n",
       "77125  NORMAL-9997680-5.jpeg   train    NORMAL   \n",
       "77126  NORMAL-9997680-6.jpeg   train    NORMAL   \n",
       "\n",
       "                                    file_location  patient_id  \\\n",
       "0             OCT2017/test/CNV/CNV-1016042-1.jpeg     1016042   \n",
       "1             OCT2017/test/CNV/CNV-1016042-2.jpeg     1016042   \n",
       "2             OCT2017/test/CNV/CNV-1016042-3.jpeg     1016042   \n",
       "3             OCT2017/test/CNV/CNV-1016042-4.jpeg     1016042   \n",
       "4              OCT2017/test/CNV/CNV-103044-1.jpeg      103044   \n",
       "...                                           ...         ...   \n",
       "77122  OCT2017/train/NORMAL/NORMAL-9997680-2.jpeg     9997680   \n",
       "77123  OCT2017/train/NORMAL/NORMAL-9997680-3.jpeg     9997680   \n",
       "77124  OCT2017/train/NORMAL/NORMAL-9997680-4.jpeg     9997680   \n",
       "77125  OCT2017/train/NORMAL/NORMAL-9997680-5.jpeg     9997680   \n",
       "77126  OCT2017/train/NORMAL/NORMAL-9997680-6.jpeg     9997680   \n",
       "\n",
       "                                    md5  dimensions  \n",
       "0      8878b3c48d6252464d388feeddf07259  (512, 496)  \n",
       "1      2fe168b795c02e7a675f835f0930abd2  (512, 496)  \n",
       "2      6bcd80b40786b6760724d082098f513f  (768, 496)  \n",
       "3      4693ad1edc383053e72563f8212a94ce  (512, 496)  \n",
       "4      bcd67009e1a0f7d540840a057f6334b2  (512, 496)  \n",
       "...                                 ...         ...  \n",
       "77122  31f918fd7fe2f0d02d6a6b9f6f44bcf5  (512, 512)  \n",
       "77123  ac491500b3d2616aaa6976d87505269a  (512, 512)  \n",
       "77124  9d961b691ce6f2484642f5d8118748c7  (512, 512)  \n",
       "77125  dd3be99ae7e602565aa91aa89ea06daa  (512, 512)  \n",
       "77126  4978c0b1ad3fc3a364e41786a4b94950  (512, 512)  \n",
       "\n",
       "[77127 rows x 7 columns]"
      ]
     },
     "execution_count": 4,
     "metadata": {},
     "output_type": "execute_result"
    }
   ],
   "source": [
    "df_mendeley = pd.read_csv(\n",
    "    f\"{DATA_WRANGLING_DIR}/mendeley/mendeley_filelist_combo_cond_md5.csv\", index_col=0\n",
    ")\n",
    "df_mendeley"
   ]
  },
  {
   "cell_type": "markdown",
   "metadata": {
    "id": "gJB_AOEiEe1l"
   },
   "source": [
    "## Read Kaggle CSV\n",
    "\n",
    "The dataset downloaded from Kaggle was not processed so it will be done here."
   ]
  },
  {
   "cell_type": "code",
   "execution_count": 5,
   "metadata": {
    "colab": {
     "base_uri": "https://localhost:8080/",
     "height": 179
    },
    "executionInfo": {
     "elapsed": 732,
     "status": "ok",
     "timestamp": 1646871374765,
     "user": {
      "displayName": "Felipe Caballero",
      "photoUrl": "https://lh3.googleusercontent.com/a-/AOh14Ghss5wXppIJZM0rNUspPkopIx4mFU3275c3bkut6w=s64",
      "userId": "15085300037385058935"
     },
     "user_tz": 300
    },
    "id": "BBOwb3R4EfB9",
    "outputId": "16c67866-8a6d-4481-9a38-dafdaed8b4c4"
   },
   "outputs": [
    {
     "data": {
      "text/html": [
       "<div>\n",
       "<style scoped>\n",
       "    .dataframe tbody tr th:only-of-type {\n",
       "        vertical-align: middle;\n",
       "    }\n",
       "\n",
       "    .dataframe tbody tr th {\n",
       "        vertical-align: top;\n",
       "    }\n",
       "\n",
       "    .dataframe thead th {\n",
       "        text-align: right;\n",
       "    }\n",
       "</style>\n",
       "<table border=\"1\" class=\"dataframe\">\n",
       "  <thead>\n",
       "    <tr style=\"text-align: right;\">\n",
       "      <th></th>\n",
       "      <th>file_name</th>\n",
       "      <th>dataset</th>\n",
       "      <th>condition</th>\n",
       "      <th>file_location</th>\n",
       "      <th>patient_id</th>\n",
       "      <th>md5</th>\n",
       "      <th>dimensions</th>\n",
       "    </tr>\n",
       "  </thead>\n",
       "  <tbody>\n",
       "    <tr>\n",
       "      <th>0</th>\n",
       "      <td>CNV-4283050-2.jpeg</td>\n",
       "      <td>test</td>\n",
       "      <td>CNV</td>\n",
       "      <td>kermany2018_downloaded_from_kaggle/OCT2017 /te...</td>\n",
       "      <td>4283050</td>\n",
       "      <td>194c039768e730812cf77c2072821f83</td>\n",
       "      <td>(512, 496)</td>\n",
       "    </tr>\n",
       "  </tbody>\n",
       "</table>\n",
       "</div>"
      ],
      "text/plain": [
       "            file_name dataset condition  \\\n",
       "0  CNV-4283050-2.jpeg    test       CNV   \n",
       "\n",
       "                                       file_location  patient_id  \\\n",
       "0  kermany2018_downloaded_from_kaggle/OCT2017 /te...     4283050   \n",
       "\n",
       "                                md5  dimensions  \n",
       "0  194c039768e730812cf77c2072821f83  (512, 496)  "
      ]
     },
     "execution_count": 5,
     "metadata": {},
     "output_type": "execute_result"
    }
   ],
   "source": [
    "df_kaggle_w_dupes = pd.read_csv(\n",
    "    f\"{DATA_WRANGLING_DIR}/kaggle/kaggle_dataset_filelist.csv\", index_col=0\n",
    ")\n",
    "df_kaggle_w_dupes.head(1)"
   ]
  },
  {
   "cell_type": "code",
   "execution_count": 6,
   "metadata": {
    "colab": {
     "base_uri": "https://localhost:8080/",
     "height": 835
    },
    "executionInfo": {
     "elapsed": 279,
     "status": "ok",
     "timestamp": 1646871375967,
     "user": {
      "displayName": "Felipe Caballero",
      "photoUrl": "https://lh3.googleusercontent.com/a-/AOh14Ghss5wXppIJZM0rNUspPkopIx4mFU3275c3bkut6w=s64",
      "userId": "15085300037385058935"
     },
     "user_tz": 300
    },
    "id": "QWzVODkvEfMF",
    "outputId": "3b79b925-113b-480b-98c9-6ba2421b9a5f"
   },
   "outputs": [
    {
     "data": {
      "text/html": [
       "<div>\n",
       "<style scoped>\n",
       "    .dataframe tbody tr th:only-of-type {\n",
       "        vertical-align: middle;\n",
       "    }\n",
       "\n",
       "    .dataframe tbody tr th {\n",
       "        vertical-align: top;\n",
       "    }\n",
       "\n",
       "    .dataframe thead th {\n",
       "        text-align: right;\n",
       "    }\n",
       "</style>\n",
       "<table border=\"1\" class=\"dataframe\">\n",
       "  <thead>\n",
       "    <tr style=\"text-align: right;\">\n",
       "      <th></th>\n",
       "      <th>file_name</th>\n",
       "      <th>dataset</th>\n",
       "      <th>condition</th>\n",
       "      <th>file_location</th>\n",
       "      <th>patient_id</th>\n",
       "      <th>md5</th>\n",
       "      <th>dimensions</th>\n",
       "    </tr>\n",
       "  </thead>\n",
       "  <tbody>\n",
       "    <tr>\n",
       "      <th>0</th>\n",
       "      <td>CNV-1016042-1.jpeg</td>\n",
       "      <td>test</td>\n",
       "      <td>CNV</td>\n",
       "      <td>kermany2018_downloaded_from_kaggle/OCT2017 /te...</td>\n",
       "      <td>1016042</td>\n",
       "      <td>8878b3c48d6252464d388feeddf07259</td>\n",
       "      <td>(512, 496)</td>\n",
       "    </tr>\n",
       "    <tr>\n",
       "      <th>1</th>\n",
       "      <td>CNV-1016042-2.jpeg</td>\n",
       "      <td>test</td>\n",
       "      <td>CNV</td>\n",
       "      <td>kermany2018_downloaded_from_kaggle/OCT2017 /te...</td>\n",
       "      <td>1016042</td>\n",
       "      <td>2fe168b795c02e7a675f835f0930abd2</td>\n",
       "      <td>(512, 496)</td>\n",
       "    </tr>\n",
       "    <tr>\n",
       "      <th>2</th>\n",
       "      <td>CNV-1016042-3.jpeg</td>\n",
       "      <td>test</td>\n",
       "      <td>CNV</td>\n",
       "      <td>kermany2018_downloaded_from_kaggle/OCT2017 /te...</td>\n",
       "      <td>1016042</td>\n",
       "      <td>6bcd80b40786b6760724d082098f513f</td>\n",
       "      <td>(768, 496)</td>\n",
       "    </tr>\n",
       "    <tr>\n",
       "      <th>3</th>\n",
       "      <td>CNV-1016042-4.jpeg</td>\n",
       "      <td>test</td>\n",
       "      <td>CNV</td>\n",
       "      <td>kermany2018_downloaded_from_kaggle/OCT2017 /te...</td>\n",
       "      <td>1016042</td>\n",
       "      <td>4693ad1edc383053e72563f8212a94ce</td>\n",
       "      <td>(512, 496)</td>\n",
       "    </tr>\n",
       "    <tr>\n",
       "      <th>4</th>\n",
       "      <td>CNV-103044-1.jpeg</td>\n",
       "      <td>test</td>\n",
       "      <td>CNV</td>\n",
       "      <td>kermany2018_downloaded_from_kaggle/OCT2017 /te...</td>\n",
       "      <td>103044</td>\n",
       "      <td>bcd67009e1a0f7d540840a057f6334b2</td>\n",
       "      <td>(512, 496)</td>\n",
       "    </tr>\n",
       "    <tr>\n",
       "      <th>...</th>\n",
       "      <td>...</td>\n",
       "      <td>...</td>\n",
       "      <td>...</td>\n",
       "      <td>...</td>\n",
       "      <td>...</td>\n",
       "      <td>...</td>\n",
       "      <td>...</td>\n",
       "    </tr>\n",
       "    <tr>\n",
       "      <th>77122</th>\n",
       "      <td>NORMAL-5193994-1.jpeg</td>\n",
       "      <td>val</td>\n",
       "      <td>NORMAL</td>\n",
       "      <td>kermany2018_downloaded_from_kaggle/OCT2017 /va...</td>\n",
       "      <td>5193994</td>\n",
       "      <td>c452deb7fe847610d4aa1ee41c4af55f</td>\n",
       "      <td>(512, 496)</td>\n",
       "    </tr>\n",
       "    <tr>\n",
       "      <th>77123</th>\n",
       "      <td>NORMAL-5246808-1.jpeg</td>\n",
       "      <td>val</td>\n",
       "      <td>NORMAL</td>\n",
       "      <td>kermany2018_downloaded_from_kaggle/OCT2017 /va...</td>\n",
       "      <td>5246808</td>\n",
       "      <td>832cc0b21bed45896ac49c892d8184d8</td>\n",
       "      <td>(512, 496)</td>\n",
       "    </tr>\n",
       "    <tr>\n",
       "      <th>77124</th>\n",
       "      <td>NORMAL-5246808-2.jpeg</td>\n",
       "      <td>val</td>\n",
       "      <td>NORMAL</td>\n",
       "      <td>kermany2018_downloaded_from_kaggle/OCT2017 /va...</td>\n",
       "      <td>5246808</td>\n",
       "      <td>c3b487cba782b6a97f9d39fc7770fdae</td>\n",
       "      <td>(512, 496)</td>\n",
       "    </tr>\n",
       "    <tr>\n",
       "      <th>77125</th>\n",
       "      <td>NORMAL-5324912-1.jpeg</td>\n",
       "      <td>val</td>\n",
       "      <td>NORMAL</td>\n",
       "      <td>kermany2018_downloaded_from_kaggle/OCT2017 /va...</td>\n",
       "      <td>5324912</td>\n",
       "      <td>2ee72e2c1e0458646b2b011a4c2a2ae4</td>\n",
       "      <td>(512, 496)</td>\n",
       "    </tr>\n",
       "    <tr>\n",
       "      <th>77126</th>\n",
       "      <td>NORMAL-9053621-1.jpeg</td>\n",
       "      <td>val</td>\n",
       "      <td>NORMAL</td>\n",
       "      <td>kermany2018_downloaded_from_kaggle/OCT2017 /va...</td>\n",
       "      <td>9053621</td>\n",
       "      <td>8781d05a185082abe914bb42807e05b9</td>\n",
       "      <td>(512, 496)</td>\n",
       "    </tr>\n",
       "  </tbody>\n",
       "</table>\n",
       "<p>77127 rows × 7 columns</p>\n",
       "</div>"
      ],
      "text/plain": [
       "                   file_name dataset condition  \\\n",
       "0         CNV-1016042-1.jpeg    test       CNV   \n",
       "1         CNV-1016042-2.jpeg    test       CNV   \n",
       "2         CNV-1016042-3.jpeg    test       CNV   \n",
       "3         CNV-1016042-4.jpeg    test       CNV   \n",
       "4          CNV-103044-1.jpeg    test       CNV   \n",
       "...                      ...     ...       ...   \n",
       "77122  NORMAL-5193994-1.jpeg     val    NORMAL   \n",
       "77123  NORMAL-5246808-1.jpeg     val    NORMAL   \n",
       "77124  NORMAL-5246808-2.jpeg     val    NORMAL   \n",
       "77125  NORMAL-5324912-1.jpeg     val    NORMAL   \n",
       "77126  NORMAL-9053621-1.jpeg     val    NORMAL   \n",
       "\n",
       "                                           file_location  patient_id  \\\n",
       "0      kermany2018_downloaded_from_kaggle/OCT2017 /te...     1016042   \n",
       "1      kermany2018_downloaded_from_kaggle/OCT2017 /te...     1016042   \n",
       "2      kermany2018_downloaded_from_kaggle/OCT2017 /te...     1016042   \n",
       "3      kermany2018_downloaded_from_kaggle/OCT2017 /te...     1016042   \n",
       "4      kermany2018_downloaded_from_kaggle/OCT2017 /te...      103044   \n",
       "...                                                  ...         ...   \n",
       "77122  kermany2018_downloaded_from_kaggle/OCT2017 /va...     5193994   \n",
       "77123  kermany2018_downloaded_from_kaggle/OCT2017 /va...     5246808   \n",
       "77124  kermany2018_downloaded_from_kaggle/OCT2017 /va...     5246808   \n",
       "77125  kermany2018_downloaded_from_kaggle/OCT2017 /va...     5324912   \n",
       "77126  kermany2018_downloaded_from_kaggle/OCT2017 /va...     9053621   \n",
       "\n",
       "                                    md5  dimensions  \n",
       "0      8878b3c48d6252464d388feeddf07259  (512, 496)  \n",
       "1      2fe168b795c02e7a675f835f0930abd2  (512, 496)  \n",
       "2      6bcd80b40786b6760724d082098f513f  (768, 496)  \n",
       "3      4693ad1edc383053e72563f8212a94ce  (512, 496)  \n",
       "4      bcd67009e1a0f7d540840a057f6334b2  (512, 496)  \n",
       "...                                 ...         ...  \n",
       "77122  c452deb7fe847610d4aa1ee41c4af55f  (512, 496)  \n",
       "77123  832cc0b21bed45896ac49c892d8184d8  (512, 496)  \n",
       "77124  c3b487cba782b6a97f9d39fc7770fdae  (512, 496)  \n",
       "77125  2ee72e2c1e0458646b2b011a4c2a2ae4  (512, 496)  \n",
       "77126  8781d05a185082abe914bb42807e05b9  (512, 496)  \n",
       "\n",
       "[77127 rows x 7 columns]"
      ]
     },
     "execution_count": 6,
     "metadata": {},
     "output_type": "execute_result"
    }
   ],
   "source": [
    "df_kaggle = df_kaggle_w_dupes.drop_duplicates(\n",
    "    subset=[\"condition\", \"md5\"], ignore_index=True\n",
    ")\n",
    "df_kaggle = df_kaggle.sort_values([\"dataset\", \"file_location\"]).reset_index(\n",
    "    drop=True\n",
    ")  # Keep order test first, train second\n",
    "df_kaggle"
   ]
  },
  {
   "cell_type": "markdown",
   "metadata": {
    "id": "28yl6XkKHT_R"
   },
   "source": [
    "# Compare the two resulting notebooks\n",
    "\n",
    "We will compare the two processed dataframes (without `['condition', 'md5']` duplicates). If the number of rows between the join and the original files is the same, both DataFrames contain the same files."
   ]
  },
  {
   "cell_type": "code",
   "execution_count": 7,
   "metadata": {
    "colab": {
     "base_uri": "https://localhost:8080/",
     "height": 277
    },
    "executionInfo": {
     "elapsed": 756,
     "status": "ok",
     "timestamp": 1646871540834,
     "user": {
      "displayName": "Felipe Caballero",
      "photoUrl": "https://lh3.googleusercontent.com/a-/AOh14Ghss5wXppIJZM0rNUspPkopIx4mFU3275c3bkut6w=s64",
      "userId": "15085300037385058935"
     },
     "user_tz": 300
    },
    "id": "d3dtTGtXJg08",
    "outputId": "32e1b56f-0133-4a92-8449-1825d5db7881"
   },
   "outputs": [
    {
     "data": {
      "text/html": [
       "<div>\n",
       "<style scoped>\n",
       "    .dataframe tbody tr th:only-of-type {\n",
       "        vertical-align: middle;\n",
       "    }\n",
       "\n",
       "    .dataframe tbody tr th {\n",
       "        vertical-align: top;\n",
       "    }\n",
       "\n",
       "    .dataframe thead th {\n",
       "        text-align: right;\n",
       "    }\n",
       "</style>\n",
       "<table border=\"1\" class=\"dataframe\">\n",
       "  <thead>\n",
       "    <tr style=\"text-align: right;\">\n",
       "      <th></th>\n",
       "      <th></th>\n",
       "      <th>file_name</th>\n",
       "      <th>dataset</th>\n",
       "      <th>file_location</th>\n",
       "      <th>patient_id</th>\n",
       "      <th>dimensions</th>\n",
       "    </tr>\n",
       "    <tr>\n",
       "      <th>md5</th>\n",
       "      <th>condition</th>\n",
       "      <th></th>\n",
       "      <th></th>\n",
       "      <th></th>\n",
       "      <th></th>\n",
       "      <th></th>\n",
       "    </tr>\n",
       "  </thead>\n",
       "  <tbody>\n",
       "    <tr>\n",
       "      <th>8878b3c48d6252464d388feeddf07259</th>\n",
       "      <th>CNV</th>\n",
       "      <td>CNV-1016042-1.jpeg</td>\n",
       "      <td>test</td>\n",
       "      <td>kermany2018_downloaded_from_kaggle/OCT2017 /te...</td>\n",
       "      <td>1016042</td>\n",
       "      <td>(512, 496)</td>\n",
       "    </tr>\n",
       "    <tr>\n",
       "      <th>2fe168b795c02e7a675f835f0930abd2</th>\n",
       "      <th>CNV</th>\n",
       "      <td>CNV-1016042-2.jpeg</td>\n",
       "      <td>test</td>\n",
       "      <td>kermany2018_downloaded_from_kaggle/OCT2017 /te...</td>\n",
       "      <td>1016042</td>\n",
       "      <td>(512, 496)</td>\n",
       "    </tr>\n",
       "  </tbody>\n",
       "</table>\n",
       "</div>"
      ],
      "text/plain": [
       "                                                     file_name dataset  \\\n",
       "md5                              condition                               \n",
       "8878b3c48d6252464d388feeddf07259 CNV        CNV-1016042-1.jpeg    test   \n",
       "2fe168b795c02e7a675f835f0930abd2 CNV        CNV-1016042-2.jpeg    test   \n",
       "\n",
       "                                                                                file_location  \\\n",
       "md5                              condition                                                      \n",
       "8878b3c48d6252464d388feeddf07259 CNV        kermany2018_downloaded_from_kaggle/OCT2017 /te...   \n",
       "2fe168b795c02e7a675f835f0930abd2 CNV        kermany2018_downloaded_from_kaggle/OCT2017 /te...   \n",
       "\n",
       "                                            patient_id  dimensions  \n",
       "md5                              condition                          \n",
       "8878b3c48d6252464d388feeddf07259 CNV           1016042  (512, 496)  \n",
       "2fe168b795c02e7a675f835f0930abd2 CNV           1016042  (512, 496)  "
      ]
     },
     "execution_count": 7,
     "metadata": {},
     "output_type": "execute_result"
    }
   ],
   "source": [
    "df_kaggle_reindexed = df_kaggle.copy()\n",
    "df_kaggle_reindexed.set_index([\"md5\", \"condition\"], inplace=True)\n",
    "df_kaggle_reindexed.head(2)"
   ]
  },
  {
   "cell_type": "code",
   "execution_count": 8,
   "metadata": {
    "colab": {
     "base_uri": "https://localhost:8080/",
     "height": 222
    },
    "executionInfo": {
     "elapsed": 273,
     "status": "ok",
     "timestamp": 1646871976067,
     "user": {
      "displayName": "Felipe Caballero",
      "photoUrl": "https://lh3.googleusercontent.com/a-/AOh14Ghss5wXppIJZM0rNUspPkopIx4mFU3275c3bkut6w=s64",
      "userId": "15085300037385058935"
     },
     "user_tz": 300
    },
    "id": "pTBjMIPzKbOH",
    "outputId": "d4f550d0-5bbf-4c09-fdd3-ee8f4569ec28"
   },
   "outputs": [
    {
     "data": {
      "text/html": [
       "<div>\n",
       "<style scoped>\n",
       "    .dataframe tbody tr th:only-of-type {\n",
       "        vertical-align: middle;\n",
       "    }\n",
       "\n",
       "    .dataframe tbody tr th {\n",
       "        vertical-align: top;\n",
       "    }\n",
       "\n",
       "    .dataframe thead th {\n",
       "        text-align: right;\n",
       "    }\n",
       "</style>\n",
       "<table border=\"1\" class=\"dataframe\">\n",
       "  <thead>\n",
       "    <tr style=\"text-align: right;\">\n",
       "      <th></th>\n",
       "      <th></th>\n",
       "      <th>file_name</th>\n",
       "      <th>dataset</th>\n",
       "      <th>file_location</th>\n",
       "      <th>patient_id</th>\n",
       "      <th>dimensions</th>\n",
       "    </tr>\n",
       "    <tr>\n",
       "      <th>md5</th>\n",
       "      <th>condition</th>\n",
       "      <th></th>\n",
       "      <th></th>\n",
       "      <th></th>\n",
       "      <th></th>\n",
       "      <th></th>\n",
       "    </tr>\n",
       "  </thead>\n",
       "  <tbody>\n",
       "    <tr>\n",
       "      <th>8878b3c48d6252464d388feeddf07259</th>\n",
       "      <th>CNV</th>\n",
       "      <td>CNV-1016042-1.jpeg</td>\n",
       "      <td>test</td>\n",
       "      <td>OCT2017/test/CNV/CNV-1016042-1.jpeg</td>\n",
       "      <td>1016042</td>\n",
       "      <td>(512, 496)</td>\n",
       "    </tr>\n",
       "    <tr>\n",
       "      <th>2fe168b795c02e7a675f835f0930abd2</th>\n",
       "      <th>CNV</th>\n",
       "      <td>CNV-1016042-2.jpeg</td>\n",
       "      <td>test</td>\n",
       "      <td>OCT2017/test/CNV/CNV-1016042-2.jpeg</td>\n",
       "      <td>1016042</td>\n",
       "      <td>(512, 496)</td>\n",
       "    </tr>\n",
       "  </tbody>\n",
       "</table>\n",
       "</div>"
      ],
      "text/plain": [
       "                                                     file_name dataset  \\\n",
       "md5                              condition                               \n",
       "8878b3c48d6252464d388feeddf07259 CNV        CNV-1016042-1.jpeg    test   \n",
       "2fe168b795c02e7a675f835f0930abd2 CNV        CNV-1016042-2.jpeg    test   \n",
       "\n",
       "                                                                  file_location  \\\n",
       "md5                              condition                                        \n",
       "8878b3c48d6252464d388feeddf07259 CNV        OCT2017/test/CNV/CNV-1016042-1.jpeg   \n",
       "2fe168b795c02e7a675f835f0930abd2 CNV        OCT2017/test/CNV/CNV-1016042-2.jpeg   \n",
       "\n",
       "                                            patient_id  dimensions  \n",
       "md5                              condition                          \n",
       "8878b3c48d6252464d388feeddf07259 CNV           1016042  (512, 496)  \n",
       "2fe168b795c02e7a675f835f0930abd2 CNV           1016042  (512, 496)  "
      ]
     },
     "execution_count": 8,
     "metadata": {},
     "output_type": "execute_result"
    }
   ],
   "source": [
    "df_mendeley_reindexed = df_mendeley.copy()\n",
    "df_mendeley_reindexed.set_index([\"md5\", \"condition\"], inplace=True)\n",
    "df_mendeley_reindexed.head(2)"
   ]
  },
  {
   "cell_type": "code",
   "execution_count": 9,
   "metadata": {
    "colab": {
     "base_uri": "https://localhost:8080/"
    },
    "executionInfo": {
     "elapsed": 1217,
     "status": "ok",
     "timestamp": 1646872326531,
     "user": {
      "displayName": "Felipe Caballero",
      "photoUrl": "https://lh3.googleusercontent.com/a-/AOh14Ghss5wXppIJZM0rNUspPkopIx4mFU3275c3bkut6w=s64",
      "userId": "15085300037385058935"
     },
     "user_tz": 300
    },
    "id": "nv6Co1UqIQuU",
    "outputId": "7c591699-cabc-43cd-a0d0-19197fda26dd"
   },
   "outputs": [
    {
     "data": {
      "text/plain": [
       "77127"
      ]
     },
     "execution_count": 9,
     "metadata": {},
     "output_type": "execute_result"
    }
   ],
   "source": [
    "df_join = df_mendeley_reindexed.join(df_kaggle_reindexed, how=\"inner\", rsuffix=\"_other\")\n",
    "len(df_join)"
   ]
  },
  {
   "cell_type": "code",
   "execution_count": 10,
   "metadata": {
    "executionInfo": {
     "elapsed": 265,
     "status": "ok",
     "timestamp": 1646872351722,
     "user": {
      "displayName": "Felipe Caballero",
      "photoUrl": "https://lh3.googleusercontent.com/a-/AOh14Ghss5wXppIJZM0rNUspPkopIx4mFU3275c3bkut6w=s64",
      "userId": "15085300037385058935"
     },
     "user_tz": 300
    },
    "id": "q2JLdqUqJPV9"
   },
   "outputs": [],
   "source": [
    "# # The three operations above in one line\n",
    "# len(df_mendeley.set_index(['md5', 'condition'])\\\n",
    "#     .join(df_kaggle.set_index(['md5', 'condition']), how='inner', rsuffix='other_'))"
   ]
  },
  {
   "cell_type": "code",
   "execution_count": 11,
   "metadata": {
    "colab": {
     "base_uri": "https://localhost:8080/"
    },
    "executionInfo": {
     "elapsed": 317,
     "status": "ok",
     "timestamp": 1646872824118,
     "user": {
      "displayName": "Felipe Caballero",
      "photoUrl": "https://lh3.googleusercontent.com/a-/AOh14Ghss5wXppIJZM0rNUspPkopIx4mFU3275c3bkut6w=s64",
      "userId": "15085300037385058935"
     },
     "user_tz": 300
    },
    "id": "HgrZJ1TmPZRb",
    "outputId": "140d3def-4961-494b-ac6d-b8f0a8c1fc24"
   },
   "outputs": [
    {
     "name": "stdout",
     "output_type": "stream",
     "text": [
      "\u001b[42m\u001b[37mBoth DataFrames contain the same files!\u001b[0m\n"
     ]
    }
   ],
   "source": [
    "if len(df_join) == len(df_kaggle):\n",
    "    message = \"Both DataFrames contain the same files!\"\n",
    "    print(termcolor.colored(message, color=\"white\", on_color=\"on_green\"))"
   ]
  },
  {
   "cell_type": "code",
   "execution_count": null,
   "metadata": {
    "id": "uu0p353bQpva"
   },
   "outputs": [],
   "source": []
  }
 ],
 "metadata": {
  "colab": {
   "authorship_tag": "ABX9TyN7yiX0+r2od1Ocwd0H6MX0",
   "collapsed_sections": [],
   "name": "data_wrangling_comparison.ipynb",
   "provenance": [],
   "toc_visible": true
  },
  "kernelspec": {
   "display_name": "Python 3 (ipykernel)",
   "language": "python",
   "name": "python3"
  },
  "language_info": {
   "codemirror_mode": {
    "name": "ipython",
    "version": 3
   },
   "file_extension": ".py",
   "mimetype": "text/x-python",
   "name": "python",
   "nbconvert_exporter": "python",
   "pygments_lexer": "ipython3",
   "version": "3.7.12"
  }
 },
 "nbformat": 4,
 "nbformat_minor": 4
}
