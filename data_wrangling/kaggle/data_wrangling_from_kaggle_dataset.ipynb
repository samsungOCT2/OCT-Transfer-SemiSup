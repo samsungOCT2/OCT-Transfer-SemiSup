{
 "cells": [
  {
   "cell_type": "markdown",
   "id": "cjrujNZo580x",
   "metadata": {
    "id": "cjrujNZo580x"
   },
   "source": [
    "In this file we obtain the data from [Kaggle](https://www.kaggle.com/paultimothymooney/kermany2018/) and do some wrangling to create a Pandas DataFrame and then store it as CSV.\n",
    "\n",
    "This file was ran locally (not in Colab) so it assumes the files have been downloaded and extracted in the same directory as this notebook.\n",
    "\n",
    "The direct [download link](https://www.kaggle.com/paultimothymooney/kermany2018/download) if registered in Kaggle."
   ]
  },
  {
   "cell_type": "markdown",
   "id": "rC4kNcfg6Rc4",
   "metadata": {
    "id": "rC4kNcfg6Rc4"
   },
   "source": [
    "# Import stuff"
   ]
  },
  {
   "cell_type": "code",
   "execution_count": null,
   "id": "439f8153-02b6-4a58-9b47-43e9c7dc586c",
   "metadata": {
    "id": "439f8153-02b6-4a58-9b47-43e9c7dc586c"
   },
   "outputs": [],
   "source": [
    "import hashlib\n",
    "import os\n",
    "\n",
    "import numpy as np\n",
    "import pandas as pd"
   ]
  },
  {
   "cell_type": "markdown",
   "id": "N5BoE8nkCEI5",
   "metadata": {
    "id": "N5BoE8nkCEI5"
   },
   "source": [
    "# List folders in the downloaded dataset"
   ]
  },
  {
   "cell_type": "code",
   "execution_count": null,
   "id": "d4089718-a106-41c7-83c5-32200dc510eb",
   "metadata": {
    "id": "d4089718-a106-41c7-83c5-32200dc510eb",
    "outputId": "05535ecc-8d9d-432c-cea0-730a7a356a25"
   },
   "outputs": [
    {
     "data": {
      "text/plain": [
       "(['.DS_Store', 'test', 'train', 'val'], ['.DS_Store', 'test', 'train', 'val'])"
      ]
     },
     "execution_count": 14,
     "metadata": {},
     "output_type": "execute_result"
    }
   ],
   "source": [
    "os.listdir(\"kermany2018_downloaded_from_kaggle/OCT2017 \"), os.listdir(\n",
    "    \"kermany2018_downloaded_from_kaggle/oct2017/OCT2017 \"\n",
    ")"
   ]
  },
  {
   "cell_type": "markdown",
   "id": "qj5w3k2hCL1X",
   "metadata": {
    "id": "qj5w3k2hCL1X"
   },
   "source": [
    "# Create a Pandas DataFrame"
   ]
  },
  {
   "cell_type": "markdown",
   "id": "hUxRoSQqCWz2",
   "metadata": {
    "id": "hUxRoSQqCWz2"
   },
   "source": [
    "## Create the actual DataFrame, empty for now"
   ]
  },
  {
   "cell_type": "code",
   "execution_count": null,
   "id": "2cd56851-f58a-4d83-b279-68910a6a35b8",
   "metadata": {
    "id": "2cd56851-f58a-4d83-b279-68910a6a35b8",
    "outputId": "0b32345a-edb9-4e0f-90c7-d6527ab76f2b"
   },
   "outputs": [
    {
     "data": {
      "text/html": [
       "<div>\n",
       "<style scoped>\n",
       "    .dataframe tbody tr th:only-of-type {\n",
       "        vertical-align: middle;\n",
       "    }\n",
       "\n",
       "    .dataframe tbody tr th {\n",
       "        vertical-align: top;\n",
       "    }\n",
       "\n",
       "    .dataframe thead th {\n",
       "        text-align: right;\n",
       "    }\n",
       "</style>\n",
       "<table border=\"1\" class=\"dataframe\">\n",
       "  <thead>\n",
       "    <tr style=\"text-align: right;\">\n",
       "      <th></th>\n",
       "      <th>file_name</th>\n",
       "      <th>dataset</th>\n",
       "      <th>condition</th>\n",
       "      <th>file_location</th>\n",
       "      <th>patient_id</th>\n",
       "      <th>md5</th>\n",
       "      <th>dimensions</th>\n",
       "    </tr>\n",
       "  </thead>\n",
       "  <tbody>\n",
       "  </tbody>\n",
       "</table>\n",
       "</div>"
      ],
      "text/plain": [
       "Empty DataFrame\n",
       "Columns: [file_name, dataset, condition, file_location, patient_id, md5, dimensions]\n",
       "Index: []"
      ]
     },
     "execution_count": 20,
     "metadata": {},
     "output_type": "execute_result"
    }
   ],
   "source": [
    "df = pd.DataFrame(\n",
    "    columns=[\n",
    "        \"file_name\",\n",
    "        \"dataset\",\n",
    "        \"condition\",\n",
    "        \"file_location\",\n",
    "        \"patient_id\",\n",
    "        \"md5\",\n",
    "        \"dimensions\",\n",
    "    ]\n",
    ")\n",
    "df"
   ]
  },
  {
   "cell_type": "markdown",
   "id": "4WuFg7SdCaV2",
   "metadata": {
    "id": "4WuFg7SdCaV2"
   },
   "source": [
    "## Fill the Pandas DataFrame\n",
    "\n",
    "Navigating through the folders from the downloaded dataset the DataFrame gets filled.\n",
    "\n",
    "Te structure of the downloaded dataset is structured like so:\n",
    "- `main_dirs`, ['kermany2018_downloaded_from_kaggle/OCT2017 ', 'kermany2018_downloaded_from_kaggle/oct2017/OCT2017 '] are the containing folders\n",
    " - `data_set_dir` represents the folders inside: 'test', 'train' and 'val'\n",
    "   - `data_type_dir` represent the condition: 'CNV', 'DME', 'DRUSEN' and 'normal'\n",
    "     - `file_name` is the name of the file\n",
    "\n",
    "All files will be kept together inside the DataFrame."
   ]
  },
  {
   "cell_type": "code",
   "execution_count": null,
   "id": "2520143a-ab29-4960-91c8-73e4c409e0a4",
   "metadata": {
    "id": "2520143a-ab29-4960-91c8-73e4c409e0a4",
    "outputId": "2bfde4dd-0b5a-4d63-8e44-6f42ed9e0c89"
   },
   "outputs": [
    {
     "data": {
      "text/html": [
       "<div>\n",
       "<style scoped>\n",
       "    .dataframe tbody tr th:only-of-type {\n",
       "        vertical-align: middle;\n",
       "    }\n",
       "\n",
       "    .dataframe tbody tr th {\n",
       "        vertical-align: top;\n",
       "    }\n",
       "\n",
       "    .dataframe thead th {\n",
       "        text-align: right;\n",
       "    }\n",
       "</style>\n",
       "<table border=\"1\" class=\"dataframe\">\n",
       "  <thead>\n",
       "    <tr style=\"text-align: right;\">\n",
       "      <th></th>\n",
       "      <th>file_name</th>\n",
       "      <th>dataset</th>\n",
       "      <th>condition</th>\n",
       "      <th>file_location</th>\n",
       "      <th>patient_id</th>\n",
       "      <th>md5</th>\n",
       "      <th>dimensions</th>\n",
       "    </tr>\n",
       "  </thead>\n",
       "  <tbody>\n",
       "    <tr>\n",
       "      <th>0</th>\n",
       "      <td>CNV-4283050-2.jpeg</td>\n",
       "      <td>test</td>\n",
       "      <td>CNV</td>\n",
       "      <td>kermany2018_downloaded_from_kaggle/OCT2017 /te...</td>\n",
       "      <td>4283050</td>\n",
       "      <td>194c039768e730812cf77c2072821f83</td>\n",
       "      <td>(512, 496)</td>\n",
       "    </tr>\n",
       "    <tr>\n",
       "      <th>1</th>\n",
       "      <td>CNV-909994-1.jpeg</td>\n",
       "      <td>test</td>\n",
       "      <td>CNV</td>\n",
       "      <td>kermany2018_downloaded_from_kaggle/OCT2017 /te...</td>\n",
       "      <td>909994</td>\n",
       "      <td>5b35e52a54e99ef5195e4a715054ac09</td>\n",
       "      <td>(512, 496)</td>\n",
       "    </tr>\n",
       "    <tr>\n",
       "      <th>2</th>\n",
       "      <td>CNV-5861916-2.jpeg</td>\n",
       "      <td>test</td>\n",
       "      <td>CNV</td>\n",
       "      <td>kermany2018_downloaded_from_kaggle/OCT2017 /te...</td>\n",
       "      <td>5861916</td>\n",
       "      <td>4266f7daa216b0d41db0c72330d4ced0</td>\n",
       "      <td>(768, 496)</td>\n",
       "    </tr>\n",
       "    <tr>\n",
       "      <th>3</th>\n",
       "      <td>CNV-2959614-4.jpeg</td>\n",
       "      <td>test</td>\n",
       "      <td>CNV</td>\n",
       "      <td>kermany2018_downloaded_from_kaggle/OCT2017 /te...</td>\n",
       "      <td>2959614</td>\n",
       "      <td>3b98f769746a5b1940e01d78e17cc432</td>\n",
       "      <td>(768, 496)</td>\n",
       "    </tr>\n",
       "    <tr>\n",
       "      <th>4</th>\n",
       "      <td>CNV-4974377-1.jpeg</td>\n",
       "      <td>test</td>\n",
       "      <td>CNV</td>\n",
       "      <td>kermany2018_downloaded_from_kaggle/OCT2017 /te...</td>\n",
       "      <td>4974377</td>\n",
       "      <td>174645709e1ac2f93849162c39ff729d</td>\n",
       "      <td>(512, 496)</td>\n",
       "    </tr>\n",
       "    <tr>\n",
       "      <th>...</th>\n",
       "      <td>...</td>\n",
       "      <td>...</td>\n",
       "      <td>...</td>\n",
       "      <td>...</td>\n",
       "      <td>...</td>\n",
       "      <td>...</td>\n",
       "      <td>...</td>\n",
       "    </tr>\n",
       "    <tr>\n",
       "      <th>168963</th>\n",
       "      <td>NORMAL-5193994-1.jpeg</td>\n",
       "      <td>val</td>\n",
       "      <td>NORMAL</td>\n",
       "      <td>kermany2018_downloaded_from_kaggle/oct2017/OCT...</td>\n",
       "      <td>5193994</td>\n",
       "      <td>c452deb7fe847610d4aa1ee41c4af55f</td>\n",
       "      <td>(512, 496)</td>\n",
       "    </tr>\n",
       "    <tr>\n",
       "      <th>168964</th>\n",
       "      <td>NORMAL-5324912-1.jpeg</td>\n",
       "      <td>val</td>\n",
       "      <td>NORMAL</td>\n",
       "      <td>kermany2018_downloaded_from_kaggle/oct2017/OCT...</td>\n",
       "      <td>5324912</td>\n",
       "      <td>2ee72e2c1e0458646b2b011a4c2a2ae4</td>\n",
       "      <td>(512, 496)</td>\n",
       "    </tr>\n",
       "    <tr>\n",
       "      <th>168965</th>\n",
       "      <td>NORMAL-9053621-1.jpeg</td>\n",
       "      <td>val</td>\n",
       "      <td>NORMAL</td>\n",
       "      <td>kermany2018_downloaded_from_kaggle/oct2017/OCT...</td>\n",
       "      <td>9053621</td>\n",
       "      <td>8781d05a185082abe914bb42807e05b9</td>\n",
       "      <td>(512, 496)</td>\n",
       "    </tr>\n",
       "    <tr>\n",
       "      <th>168966</th>\n",
       "      <td>NORMAL-5156112-1.jpeg</td>\n",
       "      <td>val</td>\n",
       "      <td>NORMAL</td>\n",
       "      <td>kermany2018_downloaded_from_kaggle/oct2017/OCT...</td>\n",
       "      <td>5156112</td>\n",
       "      <td>0a37613255e44f8a4f985964fd8fe438</td>\n",
       "      <td>(512, 496)</td>\n",
       "    </tr>\n",
       "    <tr>\n",
       "      <th>168967</th>\n",
       "      <td>NORMAL-5246808-1.jpeg</td>\n",
       "      <td>val</td>\n",
       "      <td>NORMAL</td>\n",
       "      <td>kermany2018_downloaded_from_kaggle/oct2017/OCT...</td>\n",
       "      <td>5246808</td>\n",
       "      <td>832cc0b21bed45896ac49c892d8184d8</td>\n",
       "      <td>(512, 496)</td>\n",
       "    </tr>\n",
       "  </tbody>\n",
       "</table>\n",
       "<p>168968 rows × 7 columns</p>\n",
       "</div>"
      ],
      "text/plain": [
       "                    file_name dataset condition  \\\n",
       "0          CNV-4283050-2.jpeg    test       CNV   \n",
       "1           CNV-909994-1.jpeg    test       CNV   \n",
       "2          CNV-5861916-2.jpeg    test       CNV   \n",
       "3          CNV-2959614-4.jpeg    test       CNV   \n",
       "4          CNV-4974377-1.jpeg    test       CNV   \n",
       "...                       ...     ...       ...   \n",
       "168963  NORMAL-5193994-1.jpeg     val    NORMAL   \n",
       "168964  NORMAL-5324912-1.jpeg     val    NORMAL   \n",
       "168965  NORMAL-9053621-1.jpeg     val    NORMAL   \n",
       "168966  NORMAL-5156112-1.jpeg     val    NORMAL   \n",
       "168967  NORMAL-5246808-1.jpeg     val    NORMAL   \n",
       "\n",
       "                                            file_location patient_id  \\\n",
       "0       kermany2018_downloaded_from_kaggle/OCT2017 /te...    4283050   \n",
       "1       kermany2018_downloaded_from_kaggle/OCT2017 /te...     909994   \n",
       "2       kermany2018_downloaded_from_kaggle/OCT2017 /te...    5861916   \n",
       "3       kermany2018_downloaded_from_kaggle/OCT2017 /te...    2959614   \n",
       "4       kermany2018_downloaded_from_kaggle/OCT2017 /te...    4974377   \n",
       "...                                                   ...        ...   \n",
       "168963  kermany2018_downloaded_from_kaggle/oct2017/OCT...    5193994   \n",
       "168964  kermany2018_downloaded_from_kaggle/oct2017/OCT...    5324912   \n",
       "168965  kermany2018_downloaded_from_kaggle/oct2017/OCT...    9053621   \n",
       "168966  kermany2018_downloaded_from_kaggle/oct2017/OCT...    5156112   \n",
       "168967  kermany2018_downloaded_from_kaggle/oct2017/OCT...    5246808   \n",
       "\n",
       "                                     md5  dimensions  \n",
       "0       194c039768e730812cf77c2072821f83  (512, 496)  \n",
       "1       5b35e52a54e99ef5195e4a715054ac09  (512, 496)  \n",
       "2       4266f7daa216b0d41db0c72330d4ced0  (768, 496)  \n",
       "3       3b98f769746a5b1940e01d78e17cc432  (768, 496)  \n",
       "4       174645709e1ac2f93849162c39ff729d  (512, 496)  \n",
       "...                                  ...         ...  \n",
       "168963  c452deb7fe847610d4aa1ee41c4af55f  (512, 496)  \n",
       "168964  2ee72e2c1e0458646b2b011a4c2a2ae4  (512, 496)  \n",
       "168965  8781d05a185082abe914bb42807e05b9  (512, 496)  \n",
       "168966  0a37613255e44f8a4f985964fd8fe438  (512, 496)  \n",
       "168967  832cc0b21bed45896ac49c892d8184d8  (512, 496)  \n",
       "\n",
       "[168968 rows x 7 columns]"
      ]
     },
     "execution_count": 21,
     "metadata": {},
     "output_type": "execute_result"
    }
   ],
   "source": [
    "main_dirs = [\n",
    "    \"kermany2018_downloaded_from_kaggle/OCT2017 \",\n",
    "    \"kermany2018_downloaded_from_kaggle/oct2017/OCT2017 \",\n",
    "]\n",
    "for main_dir in main_dirs:\n",
    "    for data_set_dir in os.listdir(main_dir):\n",
    "        if not os.path.isdir(f\"{main_dir}/{data_set_dir}\"):\n",
    "            continue\n",
    "\n",
    "        for data_type_dir in os.listdir(f\"{main_dir}/{data_set_dir}\"):\n",
    "            if not os.path.isdir(f\"{main_dir}/{data_set_dir}/{data_type_dir}\"):\n",
    "                continue\n",
    "\n",
    "            for file_name in os.listdir(f\"{main_dir}/{data_set_dir}/{data_type_dir}\"):\n",
    "                if file_name[0] == \".\":\n",
    "                    continue\n",
    "                # md5 stuff: https://stackoverflow.com/a/16876405/1071459\n",
    "                with open(\n",
    "                    f\"{main_dir}/{data_set_dir}/{data_type_dir}/{file_name}\", \"rb\"\n",
    "                ) as file_to_check:\n",
    "                    # read contents of the file\n",
    "                    data = file_to_check.read()\n",
    "                    # pipe contents of the file through\n",
    "                    md5 = hashlib.md5(data).hexdigest()\n",
    "                    img = PIL.Image.open(file_to_check)\n",
    "                df = df.append(\n",
    "                    {\n",
    "                        \"file_name\": file_name,\n",
    "                        \"dataset\": data_set_dir,\n",
    "                        \"condition\": data_type_dir,\n",
    "                        \"file_location\": f\"{main_dir}/{data_set_dir}/{data_type_dir}/{file_name}\",\n",
    "                        \"patient_id\": os.path.splitext(file_name)[0].split(\"-\")[1],\n",
    "                        \"md5\": md5,\n",
    "                        \"dimensions\": img.size,\n",
    "                    },\n",
    "                    ignore_index=True,\n",
    "                )\n",
    "\n",
    "df"
   ]
  },
  {
   "cell_type": "markdown",
   "id": "h5T_xQgPCmhc",
   "metadata": {
    "id": "h5T_xQgPCmhc"
   },
   "source": [
    "## Save to CSV"
   ]
  },
  {
   "cell_type": "code",
   "execution_count": null,
   "id": "oW8QNPRqCkAt",
   "metadata": {
    "id": "oW8QNPRqCkAt"
   },
   "outputs": [],
   "source": [
    "df.to_csv(\"kaggle_dataset_filelist.csv\")"
   ]
  },
  {
   "cell_type": "code",
   "execution_count": null,
   "id": "7f7e5865-dab9-4204-bc93-883708b365ab",
   "metadata": {
    "id": "7f7e5865-dab9-4204-bc93-883708b365ab"
   },
   "outputs": [],
   "source": []
  }
 ],
 "metadata": {
  "colab": {
   "collapsed_sections": [],
   "name": "data_wrangling_from_kaggle_dataset.ipynb",
   "provenance": [],
   "toc_visible": true
  },
  "kernelspec": {
   "display_name": "Python 3 (ipykernel)",
   "language": "python",
   "name": "python3"
  },
  "language_info": {
   "codemirror_mode": {
    "name": "ipython",
    "version": 3
   },
   "file_extension": ".py",
   "mimetype": "text/x-python",
   "name": "python",
   "nbconvert_exporter": "python",
   "pygments_lexer": "ipython3",
   "version": "3.7.12"
  }
 },
 "nbformat": 4,
 "nbformat_minor": 5
}
